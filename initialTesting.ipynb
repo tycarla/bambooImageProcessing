{
 "cells": [
  {
   "cell_type": "code",
   "execution_count": 14,
   "id": "bdb79fe2-5d58-4230-a3df-0a8c2ab73d7c",
   "metadata": {},
   "outputs": [
    {
     "name": "stdout",
     "output_type": "stream",
     "text": [
      "Setup complete. Using torch 2.5.1+cpu (CPU)\n"
     ]
    }
   ],
   "source": [
    "#STEP1: Install Requirements\n",
    "\n",
    "import os\n",
    "import torch\n",
    "from IPython.display import Image, clear_output  # to display images\n",
    "\n",
    "# Clone YOLOv5 repository\n",
    "os.system(\"git clone https://github.com/ultralytics/yolov5\")  # clone the repo\n",
    "os.chdir('yolov5')  # change directory to yolov5\n",
    "\n",
    "# Install dependencies\n",
    "os.system(\"pip install -r requirements.txt\")  # install dependencies\n",
    "os.system(\"pip install roboflow\")  # install roboflow\n",
    "\n",
    "# Check if torch is installed correctly and if CUDA is available\n",
    "print(f\"Setup complete. Using torch {torch.__version__} ({torch.cuda.get_device_properties(0).name if torch.cuda.is_available() else 'CPU'})\")\n"
   ]
  },
  {
   "cell_type": "code",
   "execution_count": 11,
   "id": "c457e688-9b54-495c-bc34-7708fac074c1",
   "metadata": {},
   "outputs": [
    {
     "name": "stdout",
     "output_type": "stream",
     "text": [
      "loading Roboflow workspace...\n",
      "loading Roboflow project...\n"
     ]
    },
    {
     "name": "stderr",
     "output_type": "stream",
     "text": [
      "Downloading Dataset Version Zip in C:\\roboflow/Bamboo-Growth-Habits-1 to yolov5pytorch:: 100%|██████████| 10173/10173 [00:02<00:00, 4586.37it/s]"
     ]
    },
    {
     "name": "stdout",
     "output_type": "stream",
     "text": [
      "\n"
     ]
    },
    {
     "name": "stderr",
     "output_type": "stream",
     "text": [
      "\n",
      "Extracting Dataset Version Zip to C:\\roboflow/Bamboo-Growth-Habits-1 in yolov5pytorch:: 100%|██████████| 192/192 [00:00<00:00, 695.50it/s]"
     ]
    },
    {
     "name": "stdout",
     "output_type": "stream",
     "text": [
      "Dataset downloaded: <roboflow.core.dataset.Dataset object at 0x00000182BF5A4690>\n"
     ]
    },
    {
     "name": "stderr",
     "output_type": "stream",
     "text": [
      "\n"
     ]
    }
   ],
   "source": [
    "#STEP2: Assemble Dataset\n",
    "\n",
    "from roboflow import Roboflow\n",
    "\n",
    "# Set your API key\n",
    "rf = Roboflow(api_key=\"o1QvxBk8d9pQVC2PfAOj\")\n",
    "\n",
    "# Set up the environment variable for dataset directory (ensure it points to the correct path)\n",
    "os.environ[\"DATASET_DIRECTORY\"] = r\"C:\\roboflow\" # Example: \"/content/datasets\" for Colab, or a local path for VS Code\n",
    "\n",
    "# Define your workspace and project details\n",
    "project = rf.workspace(\"bamboo-xlvw5\").project(\"bamboo-growth-habits\")\n",
    "\n",
    "# Get the specific version of the project\n",
    "version = project.version(1)  # Version 1, adjust as needed\n",
    "\n",
    "# Download the dataset in YOLOv5 format\n",
    "dataset = version.download(\"yolov5\")\n",
    "\n",
    "# Check if the dataset was downloaded correctly\n",
    "print(\"Dataset downloaded:\", dataset)"
   ]
  },
  {
   "cell_type": "code",
   "execution_count": null,
   "id": "a873a8ab",
   "metadata": {},
   "outputs": [],
   "source": [
    "#STEP3: Train Yolov5 model\n",
    "\n",
    "!python train.py --img 416 --batch 16 --epochs 50 --data \"C:/roboflow/Bamboo-Growth-Habits-1/data.yaml\" --weights yolov5s.pt --cache\n"
   ]
  }
 ],
 "metadata": {
  "kernelspec": {
   "display_name": "myenv",
   "language": "python",
   "name": "python3"
  },
  "language_info": {
   "codemirror_mode": {
    "name": "ipython",
    "version": 3
   },
   "file_extension": ".py",
   "mimetype": "text/x-python",
   "name": "python",
   "nbconvert_exporter": "python",
   "pygments_lexer": "ipython3",
   "version": "3.11.11"
  }
 },
 "nbformat": 4,
 "nbformat_minor": 5
}
